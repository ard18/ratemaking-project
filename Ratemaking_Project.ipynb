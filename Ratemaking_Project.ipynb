{
  "cells": [
    {
      "cell_type": "markdown",
      "metadata": {
        "id": "view-in-github",
        "colab_type": "text"
      },
      "source": [
        "<a href=\"https://colab.research.google.com/github/ard18/ratemaking-project/blob/main/Ratemaking_Project.ipynb\" target=\"_parent\"><img src=\"https://colab.research.google.com/assets/colab-badge.svg\" alt=\"Open In Colab\"/></a>"
      ]
    },
    {
      "cell_type": "markdown",
      "metadata": {
        "id": "fkfHLSxrkA0r"
      },
      "source": [
        "# Mount Google Drive"
      ]
    },
    {
      "cell_type": "code",
      "source": [
        "# HI"
      ],
      "metadata": {
        "id": "m7ud7MOKKukC"
      },
      "execution_count": null,
      "outputs": []
    },
    {
      "cell_type": "code",
      "execution_count": null,
      "metadata": {
        "id": "Yllo2fmtkdRj"
      },
      "outputs": [],
      "source": [
        "import pandas as pd\n",
        "import numpy as np\n",
        "import matplotlib.pyplot as plt\n",
        "pd.set_option(\"display.max_columns\",None)"
      ]
    },
    {
      "cell_type": "code",
      "execution_count": null,
      "metadata": {
        "colab": {
          "base_uri": "https://localhost:8080/",
          "height": 808
        },
        "id": "5XCVFPzgavoV",
        "outputId": "1bdda41d-df5b-4e9f-9460-a59f8f742fac"
      },
      "outputs": [
        {
          "output_type": "stream",
          "name": "stdout",
          "text": [
            "Mounted at /content/drive\n"
          ]
        },
        {
          "output_type": "execute_result",
          "data": {
            "text/plain": [
              "       GRCODE               GRNAME  AccidentYear  DevelopmentYear  \\\n",
              "0          86  Allstate Ins Co Grp          1988             1988   \n",
              "1          86  Allstate Ins Co Grp          1988             1989   \n",
              "2          86  Allstate Ins Co Grp          1988             1990   \n",
              "3          86  Allstate Ins Co Grp          1988             1991   \n",
              "4          86  Allstate Ins Co Grp          1988             1992   \n",
              "...       ...                  ...           ...              ...   \n",
              "13195   44300   Tower Ins Co Of NY          1997             2002   \n",
              "13196   44300   Tower Ins Co Of NY          1997             2003   \n",
              "13197   44300   Tower Ins Co Of NY          1997             2004   \n",
              "13198   44300   Tower Ins Co Of NY          1997             2005   \n",
              "13199   44300   Tower Ins Co Of NY          1997             2006   \n",
              "\n",
              "       DevelopmentLag  IncurLoss_D  CumPaidLoss_D  BulkLoss_D  \\\n",
              "0                   1       367404          70571      127737   \n",
              "1                   2       362988         155905       60173   \n",
              "2                   3       347288         220744       27763   \n",
              "3                   4       330648         251595       15280   \n",
              "4                   5       354690         274156       27689   \n",
              "...               ...          ...            ...         ...   \n",
              "13195               6          334            287          15   \n",
              "13196               7          318            293           2   \n",
              "13197               8          323            300           7   \n",
              "13198               9          310            297           0   \n",
              "13199              10          312            297           0   \n",
              "\n",
              "       EarnedPremDIR_D  EarnedPremCeded_D  EarnedPremNet_D  Single  \\\n",
              "0               400699               5957           394742       0   \n",
              "1               400699               5957           394742       0   \n",
              "2               400699               5957           394742       0   \n",
              "3               400699               5957           394742       0   \n",
              "4               400699               5957           394742       0   \n",
              "...                ...                ...              ...     ...   \n",
              "13195             4387               3374             1013       1   \n",
              "13196             4387               3374             1013       1   \n",
              "13197             4387               3374             1013       1   \n",
              "13198             4387               3374             1013       1   \n",
              "13199             4387               3374             1013       1   \n",
              "\n",
              "       PostedReserve97_D  \n",
              "0                 281872  \n",
              "1                 281872  \n",
              "2                 281872  \n",
              "3                 281872  \n",
              "4                 281872  \n",
              "...                  ...  \n",
              "13195               1187  \n",
              "13196               1187  \n",
              "13197               1187  \n",
              "13198               1187  \n",
              "13199               1187  \n",
              "\n",
              "[13200 rows x 13 columns]"
            ],
            "text/html": [
              "\n",
              "  <div id=\"df-a198552c-4710-4c9b-a1fe-1c49501c285a\" class=\"colab-df-container\">\n",
              "    <div>\n",
              "<style scoped>\n",
              "    .dataframe tbody tr th:only-of-type {\n",
              "        vertical-align: middle;\n",
              "    }\n",
              "\n",
              "    .dataframe tbody tr th {\n",
              "        vertical-align: top;\n",
              "    }\n",
              "\n",
              "    .dataframe thead th {\n",
              "        text-align: right;\n",
              "    }\n",
              "</style>\n",
              "<table border=\"1\" class=\"dataframe\">\n",
              "  <thead>\n",
              "    <tr style=\"text-align: right;\">\n",
              "      <th></th>\n",
              "      <th>GRCODE</th>\n",
              "      <th>GRNAME</th>\n",
              "      <th>AccidentYear</th>\n",
              "      <th>DevelopmentYear</th>\n",
              "      <th>DevelopmentLag</th>\n",
              "      <th>IncurLoss_D</th>\n",
              "      <th>CumPaidLoss_D</th>\n",
              "      <th>BulkLoss_D</th>\n",
              "      <th>EarnedPremDIR_D</th>\n",
              "      <th>EarnedPremCeded_D</th>\n",
              "      <th>EarnedPremNet_D</th>\n",
              "      <th>Single</th>\n",
              "      <th>PostedReserve97_D</th>\n",
              "    </tr>\n",
              "  </thead>\n",
              "  <tbody>\n",
              "    <tr>\n",
              "      <th>0</th>\n",
              "      <td>86</td>\n",
              "      <td>Allstate Ins Co Grp</td>\n",
              "      <td>1988</td>\n",
              "      <td>1988</td>\n",
              "      <td>1</td>\n",
              "      <td>367404</td>\n",
              "      <td>70571</td>\n",
              "      <td>127737</td>\n",
              "      <td>400699</td>\n",
              "      <td>5957</td>\n",
              "      <td>394742</td>\n",
              "      <td>0</td>\n",
              "      <td>281872</td>\n",
              "    </tr>\n",
              "    <tr>\n",
              "      <th>1</th>\n",
              "      <td>86</td>\n",
              "      <td>Allstate Ins Co Grp</td>\n",
              "      <td>1988</td>\n",
              "      <td>1989</td>\n",
              "      <td>2</td>\n",
              "      <td>362988</td>\n",
              "      <td>155905</td>\n",
              "      <td>60173</td>\n",
              "      <td>400699</td>\n",
              "      <td>5957</td>\n",
              "      <td>394742</td>\n",
              "      <td>0</td>\n",
              "      <td>281872</td>\n",
              "    </tr>\n",
              "    <tr>\n",
              "      <th>2</th>\n",
              "      <td>86</td>\n",
              "      <td>Allstate Ins Co Grp</td>\n",
              "      <td>1988</td>\n",
              "      <td>1990</td>\n",
              "      <td>3</td>\n",
              "      <td>347288</td>\n",
              "      <td>220744</td>\n",
              "      <td>27763</td>\n",
              "      <td>400699</td>\n",
              "      <td>5957</td>\n",
              "      <td>394742</td>\n",
              "      <td>0</td>\n",
              "      <td>281872</td>\n",
              "    </tr>\n",
              "    <tr>\n",
              "      <th>3</th>\n",
              "      <td>86</td>\n",
              "      <td>Allstate Ins Co Grp</td>\n",
              "      <td>1988</td>\n",
              "      <td>1991</td>\n",
              "      <td>4</td>\n",
              "      <td>330648</td>\n",
              "      <td>251595</td>\n",
              "      <td>15280</td>\n",
              "      <td>400699</td>\n",
              "      <td>5957</td>\n",
              "      <td>394742</td>\n",
              "      <td>0</td>\n",
              "      <td>281872</td>\n",
              "    </tr>\n",
              "    <tr>\n",
              "      <th>4</th>\n",
              "      <td>86</td>\n",
              "      <td>Allstate Ins Co Grp</td>\n",
              "      <td>1988</td>\n",
              "      <td>1992</td>\n",
              "      <td>5</td>\n",
              "      <td>354690</td>\n",
              "      <td>274156</td>\n",
              "      <td>27689</td>\n",
              "      <td>400699</td>\n",
              "      <td>5957</td>\n",
              "      <td>394742</td>\n",
              "      <td>0</td>\n",
              "      <td>281872</td>\n",
              "    </tr>\n",
              "    <tr>\n",
              "      <th>...</th>\n",
              "      <td>...</td>\n",
              "      <td>...</td>\n",
              "      <td>...</td>\n",
              "      <td>...</td>\n",
              "      <td>...</td>\n",
              "      <td>...</td>\n",
              "      <td>...</td>\n",
              "      <td>...</td>\n",
              "      <td>...</td>\n",
              "      <td>...</td>\n",
              "      <td>...</td>\n",
              "      <td>...</td>\n",
              "      <td>...</td>\n",
              "    </tr>\n",
              "    <tr>\n",
              "      <th>13195</th>\n",
              "      <td>44300</td>\n",
              "      <td>Tower Ins Co Of NY</td>\n",
              "      <td>1997</td>\n",
              "      <td>2002</td>\n",
              "      <td>6</td>\n",
              "      <td>334</td>\n",
              "      <td>287</td>\n",
              "      <td>15</td>\n",
              "      <td>4387</td>\n",
              "      <td>3374</td>\n",
              "      <td>1013</td>\n",
              "      <td>1</td>\n",
              "      <td>1187</td>\n",
              "    </tr>\n",
              "    <tr>\n",
              "      <th>13196</th>\n",
              "      <td>44300</td>\n",
              "      <td>Tower Ins Co Of NY</td>\n",
              "      <td>1997</td>\n",
              "      <td>2003</td>\n",
              "      <td>7</td>\n",
              "      <td>318</td>\n",
              "      <td>293</td>\n",
              "      <td>2</td>\n",
              "      <td>4387</td>\n",
              "      <td>3374</td>\n",
              "      <td>1013</td>\n",
              "      <td>1</td>\n",
              "      <td>1187</td>\n",
              "    </tr>\n",
              "    <tr>\n",
              "      <th>13197</th>\n",
              "      <td>44300</td>\n",
              "      <td>Tower Ins Co Of NY</td>\n",
              "      <td>1997</td>\n",
              "      <td>2004</td>\n",
              "      <td>8</td>\n",
              "      <td>323</td>\n",
              "      <td>300</td>\n",
              "      <td>7</td>\n",
              "      <td>4387</td>\n",
              "      <td>3374</td>\n",
              "      <td>1013</td>\n",
              "      <td>1</td>\n",
              "      <td>1187</td>\n",
              "    </tr>\n",
              "    <tr>\n",
              "      <th>13198</th>\n",
              "      <td>44300</td>\n",
              "      <td>Tower Ins Co Of NY</td>\n",
              "      <td>1997</td>\n",
              "      <td>2005</td>\n",
              "      <td>9</td>\n",
              "      <td>310</td>\n",
              "      <td>297</td>\n",
              "      <td>0</td>\n",
              "      <td>4387</td>\n",
              "      <td>3374</td>\n",
              "      <td>1013</td>\n",
              "      <td>1</td>\n",
              "      <td>1187</td>\n",
              "    </tr>\n",
              "    <tr>\n",
              "      <th>13199</th>\n",
              "      <td>44300</td>\n",
              "      <td>Tower Ins Co Of NY</td>\n",
              "      <td>1997</td>\n",
              "      <td>2006</td>\n",
              "      <td>10</td>\n",
              "      <td>312</td>\n",
              "      <td>297</td>\n",
              "      <td>0</td>\n",
              "      <td>4387</td>\n",
              "      <td>3374</td>\n",
              "      <td>1013</td>\n",
              "      <td>1</td>\n",
              "      <td>1187</td>\n",
              "    </tr>\n",
              "  </tbody>\n",
              "</table>\n",
              "<p>13200 rows × 13 columns</p>\n",
              "</div>\n",
              "    <div class=\"colab-df-buttons\">\n",
              "\n",
              "  <div class=\"colab-df-container\">\n",
              "    <button class=\"colab-df-convert\" onclick=\"convertToInteractive('df-a198552c-4710-4c9b-a1fe-1c49501c285a')\"\n",
              "            title=\"Convert this dataframe to an interactive table.\"\n",
              "            style=\"display:none;\">\n",
              "\n",
              "  <svg xmlns=\"http://www.w3.org/2000/svg\" height=\"24px\" viewBox=\"0 -960 960 960\">\n",
              "    <path d=\"M120-120v-720h720v720H120Zm60-500h600v-160H180v160Zm220 220h160v-160H400v160Zm0 220h160v-160H400v160ZM180-400h160v-160H180v160Zm440 0h160v-160H620v160ZM180-180h160v-160H180v160Zm440 0h160v-160H620v160Z\"/>\n",
              "  </svg>\n",
              "    </button>\n",
              "\n",
              "  <style>\n",
              "    .colab-df-container {\n",
              "      display:flex;\n",
              "      gap: 12px;\n",
              "    }\n",
              "\n",
              "    .colab-df-convert {\n",
              "      background-color: #E8F0FE;\n",
              "      border: none;\n",
              "      border-radius: 50%;\n",
              "      cursor: pointer;\n",
              "      display: none;\n",
              "      fill: #1967D2;\n",
              "      height: 32px;\n",
              "      padding: 0 0 0 0;\n",
              "      width: 32px;\n",
              "    }\n",
              "\n",
              "    .colab-df-convert:hover {\n",
              "      background-color: #E2EBFA;\n",
              "      box-shadow: 0px 1px 2px rgba(60, 64, 67, 0.3), 0px 1px 3px 1px rgba(60, 64, 67, 0.15);\n",
              "      fill: #174EA6;\n",
              "    }\n",
              "\n",
              "    .colab-df-buttons div {\n",
              "      margin-bottom: 4px;\n",
              "    }\n",
              "\n",
              "    [theme=dark] .colab-df-convert {\n",
              "      background-color: #3B4455;\n",
              "      fill: #D2E3FC;\n",
              "    }\n",
              "\n",
              "    [theme=dark] .colab-df-convert:hover {\n",
              "      background-color: #434B5C;\n",
              "      box-shadow: 0px 1px 3px 1px rgba(0, 0, 0, 0.15);\n",
              "      filter: drop-shadow(0px 1px 2px rgba(0, 0, 0, 0.3));\n",
              "      fill: #FFFFFF;\n",
              "    }\n",
              "  </style>\n",
              "\n",
              "    <script>\n",
              "      const buttonEl =\n",
              "        document.querySelector('#df-a198552c-4710-4c9b-a1fe-1c49501c285a button.colab-df-convert');\n",
              "      buttonEl.style.display =\n",
              "        google.colab.kernel.accessAllowed ? 'block' : 'none';\n",
              "\n",
              "      async function convertToInteractive(key) {\n",
              "        const element = document.querySelector('#df-a198552c-4710-4c9b-a1fe-1c49501c285a');\n",
              "        const dataTable =\n",
              "          await google.colab.kernel.invokeFunction('convertToInteractive',\n",
              "                                                    [key], {});\n",
              "        if (!dataTable) return;\n",
              "\n",
              "        const docLinkHtml = 'Like what you see? Visit the ' +\n",
              "          '<a target=\"_blank\" href=https://colab.research.google.com/notebooks/data_table.ipynb>data table notebook</a>'\n",
              "          + ' to learn more about interactive tables.';\n",
              "        element.innerHTML = '';\n",
              "        dataTable['output_type'] = 'display_data';\n",
              "        await google.colab.output.renderOutput(dataTable, element);\n",
              "        const docLink = document.createElement('div');\n",
              "        docLink.innerHTML = docLinkHtml;\n",
              "        element.appendChild(docLink);\n",
              "      }\n",
              "    </script>\n",
              "  </div>\n",
              "\n",
              "\n",
              "<div id=\"df-fff96a71-1b22-412b-bc1e-16590b105693\">\n",
              "  <button class=\"colab-df-quickchart\" onclick=\"quickchart('df-fff96a71-1b22-412b-bc1e-16590b105693')\"\n",
              "            title=\"Suggest charts\"\n",
              "            style=\"display:none;\">\n",
              "\n",
              "<svg xmlns=\"http://www.w3.org/2000/svg\" height=\"24px\"viewBox=\"0 0 24 24\"\n",
              "     width=\"24px\">\n",
              "    <g>\n",
              "        <path d=\"M19 3H5c-1.1 0-2 .9-2 2v14c0 1.1.9 2 2 2h14c1.1 0 2-.9 2-2V5c0-1.1-.9-2-2-2zM9 17H7v-7h2v7zm4 0h-2V7h2v10zm4 0h-2v-4h2v4z\"/>\n",
              "    </g>\n",
              "</svg>\n",
              "  </button>\n",
              "\n",
              "<style>\n",
              "  .colab-df-quickchart {\n",
              "      --bg-color: #E8F0FE;\n",
              "      --fill-color: #1967D2;\n",
              "      --hover-bg-color: #E2EBFA;\n",
              "      --hover-fill-color: #174EA6;\n",
              "      --disabled-fill-color: #AAA;\n",
              "      --disabled-bg-color: #DDD;\n",
              "  }\n",
              "\n",
              "  [theme=dark] .colab-df-quickchart {\n",
              "      --bg-color: #3B4455;\n",
              "      --fill-color: #D2E3FC;\n",
              "      --hover-bg-color: #434B5C;\n",
              "      --hover-fill-color: #FFFFFF;\n",
              "      --disabled-bg-color: #3B4455;\n",
              "      --disabled-fill-color: #666;\n",
              "  }\n",
              "\n",
              "  .colab-df-quickchart {\n",
              "    background-color: var(--bg-color);\n",
              "    border: none;\n",
              "    border-radius: 50%;\n",
              "    cursor: pointer;\n",
              "    display: none;\n",
              "    fill: var(--fill-color);\n",
              "    height: 32px;\n",
              "    padding: 0;\n",
              "    width: 32px;\n",
              "  }\n",
              "\n",
              "  .colab-df-quickchart:hover {\n",
              "    background-color: var(--hover-bg-color);\n",
              "    box-shadow: 0 1px 2px rgba(60, 64, 67, 0.3), 0 1px 3px 1px rgba(60, 64, 67, 0.15);\n",
              "    fill: var(--button-hover-fill-color);\n",
              "  }\n",
              "\n",
              "  .colab-df-quickchart-complete:disabled,\n",
              "  .colab-df-quickchart-complete:disabled:hover {\n",
              "    background-color: var(--disabled-bg-color);\n",
              "    fill: var(--disabled-fill-color);\n",
              "    box-shadow: none;\n",
              "  }\n",
              "\n",
              "  .colab-df-spinner {\n",
              "    border: 2px solid var(--fill-color);\n",
              "    border-color: transparent;\n",
              "    border-bottom-color: var(--fill-color);\n",
              "    animation:\n",
              "      spin 1s steps(1) infinite;\n",
              "  }\n",
              "\n",
              "  @keyframes spin {\n",
              "    0% {\n",
              "      border-color: transparent;\n",
              "      border-bottom-color: var(--fill-color);\n",
              "      border-left-color: var(--fill-color);\n",
              "    }\n",
              "    20% {\n",
              "      border-color: transparent;\n",
              "      border-left-color: var(--fill-color);\n",
              "      border-top-color: var(--fill-color);\n",
              "    }\n",
              "    30% {\n",
              "      border-color: transparent;\n",
              "      border-left-color: var(--fill-color);\n",
              "      border-top-color: var(--fill-color);\n",
              "      border-right-color: var(--fill-color);\n",
              "    }\n",
              "    40% {\n",
              "      border-color: transparent;\n",
              "      border-right-color: var(--fill-color);\n",
              "      border-top-color: var(--fill-color);\n",
              "    }\n",
              "    60% {\n",
              "      border-color: transparent;\n",
              "      border-right-color: var(--fill-color);\n",
              "    }\n",
              "    80% {\n",
              "      border-color: transparent;\n",
              "      border-right-color: var(--fill-color);\n",
              "      border-bottom-color: var(--fill-color);\n",
              "    }\n",
              "    90% {\n",
              "      border-color: transparent;\n",
              "      border-bottom-color: var(--fill-color);\n",
              "    }\n",
              "  }\n",
              "</style>\n",
              "\n",
              "  <script>\n",
              "    async function quickchart(key) {\n",
              "      const quickchartButtonEl =\n",
              "        document.querySelector('#' + key + ' button');\n",
              "      quickchartButtonEl.disabled = true;  // To prevent multiple clicks.\n",
              "      quickchartButtonEl.classList.add('colab-df-spinner');\n",
              "      try {\n",
              "        const charts = await google.colab.kernel.invokeFunction(\n",
              "            'suggestCharts', [key], {});\n",
              "      } catch (error) {\n",
              "        console.error('Error during call to suggestCharts:', error);\n",
              "      }\n",
              "      quickchartButtonEl.classList.remove('colab-df-spinner');\n",
              "      quickchartButtonEl.classList.add('colab-df-quickchart-complete');\n",
              "    }\n",
              "    (() => {\n",
              "      let quickchartButtonEl =\n",
              "        document.querySelector('#df-fff96a71-1b22-412b-bc1e-16590b105693 button');\n",
              "      quickchartButtonEl.style.display =\n",
              "        google.colab.kernel.accessAllowed ? 'block' : 'none';\n",
              "    })();\n",
              "  </script>\n",
              "</div>\n",
              "\n",
              "  <div id=\"id_2ad6e754-6c53-4254-a0d6-da51c7950ac8\">\n",
              "    <style>\n",
              "      .colab-df-generate {\n",
              "        background-color: #E8F0FE;\n",
              "        border: none;\n",
              "        border-radius: 50%;\n",
              "        cursor: pointer;\n",
              "        display: none;\n",
              "        fill: #1967D2;\n",
              "        height: 32px;\n",
              "        padding: 0 0 0 0;\n",
              "        width: 32px;\n",
              "      }\n",
              "\n",
              "      .colab-df-generate:hover {\n",
              "        background-color: #E2EBFA;\n",
              "        box-shadow: 0px 1px 2px rgba(60, 64, 67, 0.3), 0px 1px 3px 1px rgba(60, 64, 67, 0.15);\n",
              "        fill: #174EA6;\n",
              "      }\n",
              "\n",
              "      [theme=dark] .colab-df-generate {\n",
              "        background-color: #3B4455;\n",
              "        fill: #D2E3FC;\n",
              "      }\n",
              "\n",
              "      [theme=dark] .colab-df-generate:hover {\n",
              "        background-color: #434B5C;\n",
              "        box-shadow: 0px 1px 3px 1px rgba(0, 0, 0, 0.15);\n",
              "        filter: drop-shadow(0px 1px 2px rgba(0, 0, 0, 0.3));\n",
              "        fill: #FFFFFF;\n",
              "      }\n",
              "    </style>\n",
              "    <button class=\"colab-df-generate\" onclick=\"generateWithVariable('dataset')\"\n",
              "            title=\"Generate code using this dataframe.\"\n",
              "            style=\"display:none;\">\n",
              "\n",
              "  <svg xmlns=\"http://www.w3.org/2000/svg\" height=\"24px\"viewBox=\"0 0 24 24\"\n",
              "       width=\"24px\">\n",
              "    <path d=\"M7,19H8.4L18.45,9,17,7.55,7,17.6ZM5,21V16.75L18.45,3.32a2,2,0,0,1,2.83,0l1.4,1.43a1.91,1.91,0,0,1,.58,1.4,1.91,1.91,0,0,1-.58,1.4L9.25,21ZM18.45,9,17,7.55Zm-12,3A5.31,5.31,0,0,0,4.9,8.1,5.31,5.31,0,0,0,1,6.5,5.31,5.31,0,0,0,4.9,4.9,5.31,5.31,0,0,0,6.5,1,5.31,5.31,0,0,0,8.1,4.9,5.31,5.31,0,0,0,12,6.5,5.46,5.46,0,0,0,6.5,12Z\"/>\n",
              "  </svg>\n",
              "    </button>\n",
              "    <script>\n",
              "      (() => {\n",
              "      const buttonEl =\n",
              "        document.querySelector('#id_2ad6e754-6c53-4254-a0d6-da51c7950ac8 button.colab-df-generate');\n",
              "      buttonEl.style.display =\n",
              "        google.colab.kernel.accessAllowed ? 'block' : 'none';\n",
              "\n",
              "      buttonEl.onclick = () => {\n",
              "        google.colab.notebook.generateWithVariable('dataset');\n",
              "      }\n",
              "      })();\n",
              "    </script>\n",
              "  </div>\n",
              "\n",
              "    </div>\n",
              "  </div>\n"
            ],
            "application/vnd.google.colaboratory.intrinsic+json": {
              "type": "dataframe",
              "variable_name": "dataset",
              "summary": "{\n  \"name\": \"dataset\",\n  \"rows\": 13200,\n  \"fields\": [\n    {\n      \"column\": \"GRCODE\",\n      \"properties\": {\n        \"dtype\": \"number\",\n        \"std\": 12512,\n        \"min\": 86,\n        \"max\": 44300,\n        \"num_unique_values\": 132,\n        \"samples\": [\n          11703,\n          18538,\n          2712\n        ],\n        \"semantic_type\": \"\",\n        \"description\": \"\"\n      }\n    },\n    {\n      \"column\": \"GRNAME\",\n      \"properties\": {\n        \"dtype\": \"category\",\n        \"num_unique_values\": 132,\n        \"samples\": [\n          \"Lackawanna Cas Co\",\n          \"Bancinsure Inc\",\n          \"Pennsylvania Natl Ins Grp\"\n        ],\n        \"semantic_type\": \"\",\n        \"description\": \"\"\n      }\n    },\n    {\n      \"column\": \"AccidentYear\",\n      \"properties\": {\n        \"dtype\": \"number\",\n        \"std\": 2,\n        \"min\": 1988,\n        \"max\": 1997,\n        \"num_unique_values\": 10,\n        \"samples\": [\n          1996,\n          1989,\n          1993\n        ],\n        \"semantic_type\": \"\",\n        \"description\": \"\"\n      }\n    },\n    {\n      \"column\": \"DevelopmentYear\",\n      \"properties\": {\n        \"dtype\": \"number\",\n        \"std\": 4,\n        \"min\": 1988,\n        \"max\": 2006,\n        \"num_unique_values\": 19,\n        \"samples\": [\n          1988,\n          1993,\n          1999\n        ],\n        \"semantic_type\": \"\",\n        \"description\": \"\"\n      }\n    },\n    {\n      \"column\": \"DevelopmentLag\",\n      \"properties\": {\n        \"dtype\": \"number\",\n        \"std\": 2,\n        \"min\": 1,\n        \"max\": 10,\n        \"num_unique_values\": 10,\n        \"samples\": [\n          9,\n          2,\n          6\n        ],\n        \"semantic_type\": \"\",\n        \"description\": \"\"\n      }\n    },\n    {\n      \"column\": \"IncurLoss_D\",\n      \"properties\": {\n        \"dtype\": \"number\",\n        \"std\": 35595,\n        \"min\": -59,\n        \"max\": 367404,\n        \"num_unique_values\": 5899,\n        \"samples\": [\n          26105,\n          6996,\n          12174\n        ],\n        \"semantic_type\": \"\",\n        \"description\": \"\"\n      }\n    },\n    {\n      \"column\": \"CumPaidLoss_D\",\n      \"properties\": {\n        \"dtype\": \"number\",\n        \"std\": 25714,\n        \"min\": -338,\n        \"max\": 325322,\n        \"num_unique_values\": 5435,\n        \"samples\": [\n          650,\n          2257,\n          8230\n        ],\n        \"semantic_type\": \"\",\n        \"description\": \"\"\n      }\n    },\n    {\n      \"column\": \"BulkLoss_D\",\n      \"properties\": {\n        \"dtype\": \"number\",\n        \"std\": 7259,\n        \"min\": -4621,\n        \"max\": 145296,\n        \"num_unique_values\": 2654,\n        \"samples\": [\n          28504,\n          25129,\n          2943\n        ],\n        \"semantic_type\": \"\",\n        \"description\": \"\"\n      }\n    },\n    {\n      \"column\": \"EarnedPremDIR_D\",\n      \"properties\": {\n        \"dtype\": \"number\",\n        \"std\": 51830,\n        \"min\": -6518,\n        \"max\": 421223,\n        \"num_unique_values\": 907,\n        \"samples\": [\n          9133,\n          375,\n          38415\n        ],\n        \"semantic_type\": \"\",\n        \"description\": \"\"\n      }\n    },\n    {\n      \"column\": \"EarnedPremCeded_D\",\n      \"properties\": {\n        \"dtype\": \"number\",\n        \"std\": 6666,\n        \"min\": -3522,\n        \"max\": 78730,\n        \"num_unique_values\": 722,\n        \"samples\": [\n          990,\n          2286,\n          5764\n        ],\n        \"semantic_type\": \"\",\n        \"description\": \"\"\n      }\n    },\n    {\n      \"column\": \"EarnedPremNet_D\",\n      \"properties\": {\n        \"dtype\": \"number\",\n        \"std\": 48941,\n        \"min\": -9731,\n        \"max\": 418755,\n        \"num_unique_values\": 898,\n        \"samples\": [\n          4462,\n          23175,\n          4905\n        ],\n        \"semantic_type\": \"\",\n        \"description\": \"\"\n      }\n    },\n    {\n      \"column\": \"Single\",\n      \"properties\": {\n        \"dtype\": \"number\",\n        \"std\": 0,\n        \"min\": 0,\n        \"max\": 1,\n        \"num_unique_values\": 2,\n        \"samples\": [\n          1,\n          0\n        ],\n        \"semantic_type\": \"\",\n        \"description\": \"\"\n      }\n    },\n    {\n      \"column\": \"PostedReserve97_D\",\n      \"properties\": {\n        \"dtype\": \"number\",\n        \"std\": 130130,\n        \"min\": 0,\n        \"max\": 1090093,\n        \"num_unique_values\": 121,\n        \"samples\": [\n          82268,\n          3531\n        ],\n        \"semantic_type\": \"\",\n        \"description\": \"\"\n      }\n    }\n  ]\n}"
            }
          },
          "metadata": {},
          "execution_count": 2
        }
      ],
      "source": [
        "from google.colab import drive\n",
        "drive.mount('/content/drive')\n",
        "filepath = \"/content/drive/MyDrive/Colab Notebooks/datasets/Project/worker-comp/wkcomp_pos.csv\"\n",
        "\n",
        "dataset = pd.DataFrame(pd.read_csv(filepath))\n",
        "dataset"
      ]
    },
    {
      "cell_type": "code",
      "execution_count": null,
      "metadata": {
        "colab": {
          "base_uri": "https://localhost:8080/"
        },
        "id": "_83D-h8JQmNz",
        "outputId": "7c6b124f-df42-45bc-ba8c-fb0d8551fee4"
      },
      "outputs": [
        {
          "output_type": "stream",
          "name": "stdout",
          "text": [
            "GRCODE \n",
            "\n",
            "GRNAME \n",
            "\n",
            "AccidentYear \n",
            "\n",
            "DevelopmentYear \n",
            "\n",
            "DevelopmentLag \n",
            "\n",
            "IncurLoss_D \n",
            "\n",
            "CumPaidLoss_D \n",
            "\n",
            "BulkLoss_D \n",
            "\n",
            "EarnedPremDIR_D \n",
            "\n",
            "EarnedPremCeded_D \n",
            "\n",
            "EarnedPremNet_D \n",
            "\n",
            "Single \n",
            "\n",
            "PostedReserve97_D \n",
            "\n"
          ]
        }
      ],
      "source": [
        "columns = dataset.columns\n",
        "for i in columns:\n",
        "    print(i,\"\\n\")"
      ]
    },
    {
      "cell_type": "code",
      "execution_count": null,
      "metadata": {
        "colab": {
          "base_uri": "https://localhost:8080/",
          "height": 1000
        },
        "id": "x7HFcSbkaPy0",
        "outputId": "0abd8d46-d9b9-4b1d-9a05-22043d58be0c"
      },
      "outputs": [
        {
          "output_type": "stream",
          "name": "stderr",
          "text": [
            "<ipython-input-4-a8476510fe54>:7: FutureWarning: The default value of numeric_only in DataFrame.corr is deprecated. In a future version, it will default to False. Select only valid columns or specify the value of numeric_only to silence this warning.\n",
            "  sns.heatmap(dataset.corr(), annot=True, linewidths=0.2, linecolor=\"black\", fmt=\".2f\")\n"
          ]
        },
        {
          "output_type": "display_data",
          "data": {
            "text/plain": [
              "<Figure size 2000x2000 with 2 Axes>"
            ],
            "image/png": "[encoded data removed]"
          },
          "metadata": {}
        }
      ],
      "source": [
        "# prompt: create a heatmap or correlation map for this dataset with proper spacing\n",
        "\n",
        "import matplotlib.pyplot as plt\n",
        "import seaborn as sns\n",
        "\n",
        "plt.figure(figsize=(20, 20))\n",
        "sns.heatmap(dataset.corr(), annot=True, linewidths=0.2, linecolor=\"black\", fmt=\".2f\")\n",
        "plt.show()\n"
      ]
    },
    {
      "cell_type": "code",
      "execution_count": null,
      "metadata": {
        "colab": {
          "base_uri": "https://localhost:8080/"
        },
        "id": "GVWyyvAakJt2",
        "outputId": "2ec839e8-27cc-412b-f245-1c4f1c42e03c"
      },
      "outputs": [
        {
          "output_type": "execute_result",
          "data": {
            "text/plain": [
              "GRCODE               False\n",
              "GRNAME               False\n",
              "AccidentYear         False\n",
              "DevelopmentYear      False\n",
              "DevelopmentLag       False\n",
              "IncurLoss_D          False\n",
              "CumPaidLoss_D        False\n",
              "BulkLoss_D           False\n",
              "EarnedPremDIR_D      False\n",
              "EarnedPremCeded_D    False\n",
              "EarnedPremNet_D      False\n",
              "Single               False\n",
              "PostedReserve97_D    False\n",
              "dtype: bool"
            ]
          },
          "metadata": {},
          "execution_count": 5
        }
      ],
      "source": [
        "# no missing values\n",
        "dataset.isnull().any()"
      ]
    },
    {
      "cell_type": "markdown",
      "metadata": {
        "id": "qvO0OD3iqN6p"
      },
      "source": [
        "# Choose your Company using GRCODE"
      ]
    },
    {
      "cell_type": "code",
      "execution_count": null,
      "metadata": {
        "colab": {
          "base_uri": "https://localhost:8080/"
        },
        "id": "WrJYJgbrk7HE",
        "outputId": "c11dd0f3-5889-4d27-a557-aef1caecdbe3"
      },
      "outputs": [
        {
          "output_type": "stream",
          "name": "stdout",
          "text": [
            "['86-Allstate Ins Co Grp' '337-California Cas Grp' '353-Celina Mut Grp'\n",
            " '388-Federal Ins Co Grp' '460-Buckeye Ins Grp' '655-FM Global'\n",
            " '671-Farm Bureau Of MI Grp' '711-Patrons Grp' '715-West Bend Mut Ins Grp'\n",
            " '965-Secura Ins Co' '1066-Island Ins Cos Grp'\n",
            " '1090-Kentucky Farm Bureau Mut Ins Grp' '1236-Shelter Ins Cos Grp'\n",
            " '1252-Penn Miller Grp' '1538-Farmers Automobile Grp'\n",
            " '1767-State Farm Mut Grp' '2135-Erie Ins Exchange Grp'\n",
            " '2143-Farmers Alliance Mut & Affiliates' '2623-Canal Ins Co Grp'\n",
            " '2712-Pennsylvania Natl Ins Grp' '3000-Horace Mann Grp'\n",
            " '3034-Preferred Risk Mut Grp' '3240-NC Farm Bureau Ins Grp'\n",
            " '4839-FL Farm Bureau Grp' '5010-Capitol Transamerican Grp'\n",
            " '5185-Grinnell Mut Grp' '5940-American Contractors Ins Grp'\n",
            " '6408-Mutual Benefit Grp' '6807-Amerisafe Grp'\n",
            " '7080-New Jersey Manufacturers Grp' '7714-Keystone Ins Grp'\n",
            " '8168-Commerce Grp Inc' '8427-Farm Bureau Grp'\n",
            " '8559-Millers Mut Ins Assoc' '8672-Protective Ins Grp'\n",
            " '9466-Lumber Ins Cos' '10011-Mada Ins Exchange' '10022-Agway Ins Co'\n",
            " '10048-Hyundai Marine & Fire Ins Co Ltd' '10074-Martingale Natl Ins Co'\n",
            " '10191-MO Employers Mut Ins Co' '10385-FFVA Mut Ins Co'\n",
            " '10520-Care West Ins Co' '10561-Catholic Relief Ins Co Of Amer'\n",
            " '10657-First Mercury Ins Co' '10659-Diamond Ins Co'\n",
            " '10699-Florida Hospitality Mut Ins Co' '10709-Goldstreet Ins Co'\n",
            " '10781-Hawaii Employers Mut Ins Co' '10800-NHC Ins Co'\n",
            " '10859-First Nonprofit Mut Ins Co'\n",
            " '10874-GA Resaurant Mut Captive Ins Co'\n",
            " '11126-Yasuda Fire & Marine Ins Co Of Amer' '11231-Generali Us Branch'\n",
            " '11347-State Fund Mut Ins Co' '11460-Homestead Ins Co'\n",
            " '11703-Lackawanna Cas Co' '12297-Petroleum Cas Co'\n",
            " '13439-Partners Mut Ins Co' '13501-Brethren Mut Ins Co'\n",
            " '13528-Brotherhood Mut Ins Co' '13587-Chicago Mut Ins Co'\n",
            " '13641-Colorado Farm Bureau Mut Ins Co' '13943-Fitchburg Mut Ins Co'\n",
            " '13994-Fremont Mut Ins Co' '14044-Goodville Mut Cas Co'\n",
            " '14176-Hastings Mut Ins Co' '14257-IMT Ins Co Mut'\n",
            " '14320-Distributors Ins Co' '14370-Lebanon Mut Ins Co'\n",
            " '14508-Michigan Millers Mut Ins Co' '14575-Millers Capital Ins Co'\n",
            " '14974-Pennsylvania Lumbermens Mut Ins' '15024-Preferred Mut Ins Co'\n",
            " '15148-Sheboygan Falls Mut Ins Co' '15199-Standard Mut Ins Co'\n",
            " '15334-Utilities Mut Ins Co' '15393-Wisconsin American Mut Ins Co'\n",
            " '15792-Underwriters At Lloyds London' '15911-American Mining Ins Co Inc'\n",
            " '16446-Farmers Ins Co of Flemington' '18309-Pioneer State Mut Ins Co'\n",
            " '18380-Pacific Ind Ins Co' '18538-Bancinsure Inc'\n",
            " '18767-Church Mut Ins Co' '18791-Virginia Mut Ins Co'\n",
            " '20451-Midstates Rein Corp' '21172-Vanliner Ins Co'\n",
            " '22635-Discovery Ins Co' '22900-Louisiana Pest Control Ins Co'\n",
            " '23108-Lumbermens Underwriting Alliance'\n",
            " '23140-Associated Industries Ins Co' '23574-Midwest Family Mut Ins Co'\n",
            " '23663-National American Ins Co' '23876-Mapfre Reins Corp'\n",
            " '24017-Beacon Mut Ins Co' '24619-Transportation Cas Ins Co'\n",
            " '26433-Harco Natl Ins Co' '26956-Wisconsin Cnty Mut Ins Corp'\n",
            " '27065-Rockford Mut Ins Co' '27529-Laundry Owners Mut Liab Ins Asn'\n",
            " '27626-Firstcomp Ins Co' '27905-NLC Mut Ins Co'\n",
            " '27955-Commercial Risk Re-Ins Co' '28258-Continental Natl Ind Co'\n",
            " '28886-Transguard Ins Co Of Amer Inc' '30589-Capital City Ins Co Inc'\n",
            " '31658-Zurich Ins (Guam) Inc' '31780-Maple Valley Mut Ins Co'\n",
            " '32005-Employers Security Ins Co' '32875-British Amer Ins Co'\n",
            " '33111-MHA Ins Co' '33499-Dorinco Rein Co' '34576-Workers Comp Exch'\n",
            " '35009-Financial Cas & Surety Inc' '35408-Sirius Amer Ins Co'\n",
            " '35904-Health Care Ind Inc' '36790-Springfield Ins Co Inc'\n",
            " '37370-Associated Loggers Exch' '38300-Samsung Fire & Marine Ins Co Ltd'\n",
            " '38644-Omega Ins Co' '38687-Alaska Timber Ins Exchange'\n",
            " '38733-Alaska Nat Ins Co' '38997-Nissan Fire & Marine Ins Co Us Br'\n",
            " '40126-Umialik Ins Co' '41300-American Resources Ins Co Inc'\n",
            " '41394-Benchmark Ins Co' '41580-Red Shield Ins Co'\n",
            " '42439-Toa-Re Ins Co Of Amer' '43915-Rainier Ins Co'\n",
            " '44091-Dowa Fire & Marine Ins Co Ltd Us Br' '44300-Tower Ins Co Of NY']\n"
          ]
        }
      ],
      "source": [
        "\n",
        "dataset[\"GRCODE-GRNAME\"] = dataset['GRCODE'].astype('str')+\"-\"+dataset['GRNAME']\n",
        "companies = dataset[\"GRCODE-GRNAME\"]\n",
        "print(pd.unique(companies))"
      ]
    },
    {
      "cell_type": "code",
      "execution_count": null,
      "metadata": {
        "id": "nmrDjQyPqr0v"
      },
      "outputs": [],
      "source": [
        "slt_comp = 1767 #@param"
      ]
    },
    {
      "cell_type": "markdown",
      "metadata": {
        "id": "b1Ty023D9ylG"
      },
      "source": [
        "# Function definitions for Loss Development"
      ]
    },
    {
      "cell_type": "code",
      "execution_count": null,
      "metadata": {
        "colab": {
          "base_uri": "https://localhost:8080/"
        },
        "id": "PY5xc_LCtqcj",
        "outputId": "e1621323-7f3b-4d24-aeb7-1e5090ed22e8"
      },
      "outputs": [
        {
          "output_type": "stream",
          "name": "stdout",
          "text": [
            "Loss Development Triangle\n",
            "\n",
            "1988\t\t22190\t60834\t85104\t100151\t108812\t114967\t118790\t121558\t123492\t125049\t\n",
            "\n",
            "1989\t\t26542\t77798\t106407\t122422\t133359\t138599\t143029\t145712\t147358\t\n",
            "\n",
            "1990\t\t32977\t100494\t134886\t157758\t168991\t178065\t182787\t187760\t\n",
            "\n",
            "1991\t\t38604\t114428\t157103\t181322\t197411\t208804\t213396\t\n",
            "\n",
            "1992\t\t42466\t125820\t164776\t189045\t204377\t213904\t\n",
            "\n",
            "1993\t\t46447\t116764\t154897\t179419\t193676\t\n",
            "\n",
            "1994\t\t41368\t100344\t132021\t151081\t\n",
            "\n",
            "1995\t\t35719\t83216\t111268\t\n",
            "\n",
            "1996\t\t28746\t66033\t\n",
            "\n",
            "1997\t\t25265\t\n",
            "\n",
            "\n",
            "\n",
            "Loss Development Factors (Age-to-Age factors)\n",
            "\n",
            "1988\t\t2.7415\t1.399\t1.1768\t1.0865\t1.0566\t1.0333\t1.0233\t1.0159\t1.0126\t\n",
            "\n",
            "1989\t\t2.9311\t1.3677\t1.1505\t1.0893\t1.0393\t1.032\t1.0188\t1.0113\t\n",
            "\n",
            "1990\t\t3.0474\t1.3422\t1.1696\t1.0712\t1.0537\t1.0265\t1.0272\t\n",
            "\n",
            "1991\t\t2.9641\t1.3729\t1.1542\t1.0887\t1.0577\t1.022\t\n",
            "\n",
            "1992\t\t2.9628\t1.3096\t1.1473\t1.0811\t1.0466\t\n",
            "\n",
            "1993\t\t2.5139\t1.3266\t1.1583\t1.0795\t\n",
            "\n",
            "1994\t\t2.4256\t1.3157\t1.1444\t\n",
            "\n",
            "1995\t\t2.3297\t1.3371\t\n",
            "\n",
            "1996\t\t2.2971\t\n",
            "\n",
            "1997\t\t\n",
            "\n",
            "\n",
            "\n",
            "Available averaging methods:\n",
            "            1. Simple Average :- Latest 5\n",
            "            2. Volume-Weighted Average :- Latest 5\n",
            "            3. Medial Average :- Latest 5\n",
            "            4. Geometric Average :- Latest 5\n",
            "\n",
            "SimpleAvg \t [2.5058, 1.3324, 1.1548, 1.082, 1.0508, 1.0284, 1.0231, 1.0136, 1.0126] \n",
            "\n",
            "VolumeAvg \t [2.5273, 1.332, 1.1546, 1.0817, 1.0509, 1.0274, 1.0234, 1.0134, 1.0126] \n",
            "\n",
            "MedialAvg \t [2.4231, 1.3265, 1.1533, 1.0831, 1.0523, 1.0292, 1.0233, 1.0136, 1.0126] \n",
            "\n",
            "GeometricAvg \t [2.495, 1.3322, 1.1547, 1.0819, 1.0508, 1.0284, 1.0231, 1.0136, 1.0126] \n",
            "\n"
          ]
        }
      ],
      "source": [
        "class AveragingMethods:\n",
        "    def __init__(self, data):\n",
        "        '''Here, Data is of type list'''\n",
        "        self.data = data\n",
        "    def SimpleAvg(self):\n",
        "        sum = 0\n",
        "        for i in self.data:\n",
        "            sum += i\n",
        "        return round( sum/len(self.data), 4)\n",
        "    def VolumeAvg(self, dt1, dt2):\n",
        "        sum1 = 0\n",
        "        for i in dt1:\n",
        "            sum1 += i\n",
        "        sum2 = 0\n",
        "        for j in dt2:\n",
        "            sum2 += j\n",
        "        return round( sum1/sum2,4)\n",
        "    def MedialAvg(self):\n",
        "        minimum = min(self.data)\n",
        "        maximum = max(self.data)\n",
        "        sum = 0\n",
        "        if len(self.data) > 2:\n",
        "            for i in self.data:\n",
        "                sum += i\n",
        "            sum -= (maximum+minimum)\n",
        "            return round( sum/(len(self.data)-2),4)\n",
        "        else:\n",
        "            return  round( (maximum+minimum)/2,4)\n",
        "    def GeometricAvg(self):\n",
        "        sum = 1\n",
        "        for i in self.data:\n",
        "            sum *= i\n",
        "        return round( sum**(1/len(self.data)),4)\n",
        "\n",
        "\n",
        "def LossData(grcode):\n",
        "    '''This function extracts the loss data of a specific company corresponding to its GRCODE\n",
        "        Here data is of type: dataframe'''\n",
        "    company = dataset[dataset[\"GRCODE\"]==grcode]\n",
        "    return(company)\n",
        "\n",
        "\n",
        "def createLossTriangle(data):\n",
        "    '''This function extracts and creates Loss triangles\n",
        "        Here data is of type: dataframe'''\n",
        "    trframe = {}      # dict containing loss triangle values for various accident years\n",
        "    for i in range(1988,1998):\n",
        "        L = []\n",
        "        for j in range(i,1998):\n",
        "            condition = ( (data['AccidentYear']==i) & (data['DevelopmentYear']==j) )\n",
        "            #print(int(data.loc[condition]['CumPaidLoss_D']))\n",
        "            L.append(int(data.loc[condition]['CumPaidLoss_D']))\n",
        "        i = int(i)\n",
        "        trframe[i] = L\n",
        "    return trframe\n",
        "\n",
        "\n",
        "def displayTriangleData(data):\n",
        "    '''This function displays Loss Triangle data\n",
        "       Here data is of type: dictionary'''\n",
        "    for i in data.keys():\n",
        "        print(i, end = \"\\t\\t\")\n",
        "        for j in data[i]:\n",
        "            print(j, end = \"\\t\")\n",
        "        print(\"\\n\")\n",
        "\n",
        "\n",
        "def computeLDF(data):\n",
        "    '''This function computes Loss Development Factors\n",
        "       Here data is of type: dictionary'''\n",
        "    trframe = {}\n",
        "    for i in data.keys():\n",
        "        L = []\n",
        "        for j in range(len(data[i])-1):\n",
        "            ldf = data[i][j+1]/data[i][j]\n",
        "            L.append( round(ldf,4) )\n",
        "        i = int(i)\n",
        "        trframe[i] = L\n",
        "    return trframe\n",
        "\n",
        "\n",
        "def computeAverageLDF(ldf_info, loss_info):\n",
        "    '''This function computes various Averages of Loss Development Factors\n",
        "       Here data is of type: dictionary'''\n",
        "    print(\"Available averaging methods:\\n\\\n",
        "            1. Simple Average :- Latest 5\\n\\\n",
        "            2. Volume-Weighted Average :- Latest 5\\n\\\n",
        "            3. Medial Average :- Latest 5\\n\\\n",
        "            4. Geometric Average :- Latest 5\\n\")\n",
        "    DK = list(ldf_info.keys())\n",
        "    DK = sorted(DK, reverse=True)\n",
        "    trframe = {\n",
        "        'SimpleAvg':[],\n",
        "        'VolumeAvg':[],\n",
        "        'MedialAvg':[],\n",
        "        'GeometricAvg':[]\n",
        "    }\n",
        "    # for Medial, Simple and Geometric Averages\n",
        "    for i in range(0,10):\n",
        "        L = []\n",
        "        c = 1\n",
        "        for j in DK:\n",
        "            try:    # to avoid Index Out of Bounds\n",
        "                if ldf_info[j][i] and c<=5:\n",
        "                    L.append(ldf_info[j][i])\n",
        "                    c+=1\n",
        "            except:\n",
        "                pass\n",
        "        if(L!=[]):\n",
        "            obj = AveragingMethods(L)               # object of class Averaging methods\n",
        "            simp_avg = obj.SimpleAvg()\n",
        "            med_avg  = obj.MedialAvg()\n",
        "            geo_avg  = obj.GeometricAvg()\n",
        "            trframe['SimpleAvg'].append(simp_avg)\n",
        "            trframe['MedialAvg'].append(med_avg)\n",
        "            trframe['GeometricAvg'].append(geo_avg)\n",
        "    # only for Volume-Weighted Average\n",
        "    for i in range(1,10):\n",
        "        L1 = []\n",
        "        L2 = []\n",
        "        c = 1\n",
        "        for j in DK:\n",
        "            try:\n",
        "                if loss_info[j][i] and loss_info[j][i-1] and c<=5:\n",
        "                    L1.append(loss_info[j][i])\n",
        "                    L2.append(loss_info[j][i-1])\n",
        "                    c+=1\n",
        "            except:\n",
        "                pass\n",
        "        if(L1!=[] and L2!=[]):\n",
        "            obj = AveragingMethods(L1)\n",
        "            vol_avg = obj.VolumeAvg(L1, L2)\n",
        "            trframe['VolumeAvg'].append(vol_avg)\n",
        "    return trframe\n",
        "\n",
        "\n",
        "\n",
        "\n",
        "loss_data = LossData(slt_comp)\n",
        "\n",
        "print(\"Loss Development Triangle\\n\")\n",
        "loss_triangle = createLossTriangle(loss_data)\n",
        "displayTriangleData(loss_triangle)\n",
        "print(\"\\n\")\n",
        "\n",
        "print(\"Loss Development Factors (Age-to-Age factors)\\n\")\n",
        "ldf_triangle = computeLDF(loss_triangle)\n",
        "displayTriangleData(ldf_triangle)\n",
        "print(\"\\n\")\n",
        "\n",
        "avg_ldf = computeAverageLDF(ldf_triangle, loss_triangle)\n",
        "for i in avg_ldf.keys():\n",
        "    print(i,\"\\t\",avg_ldf[i],\"\\n\")"
      ]
    },
    {
      "cell_type": "code",
      "execution_count": null,
      "metadata": {
        "colab": {
          "base_uri": "https://localhost:8080/",
          "height": 452
        },
        "id": "-ilj71XZl7KF",
        "outputId": "07e5b346-62db-4f23-dee1-252bfc282792"
      },
      "outputs": [
        {
          "output_type": "execute_result",
          "data": {
            "text/plain": [
              "<matplotlib.legend.Legend at 0x786811cc4c10>"
            ]
          },
          "metadata": {},
          "execution_count": 9
        },
        {
          "output_type": "display_data",
          "data": {
            "text/plain": [
              "<Figure size 640x480 with 1 Axes>"
            ],
            "image/png": "[encoded data removed]"
          },
          "metadata": {}
        }
      ],
      "source": [
        "plt.plot(avg_ldf['SimpleAvg'])\n",
        "plt.plot(avg_ldf['MedialAvg'])\n",
        "plt.plot(avg_ldf['GeometricAvg'])\n",
        "plt.plot(avg_ldf['VolumeAvg'])\n",
        "\n",
        "plt.legend( ['Simple','Medial','Geometric','Volume'] , loc='upper right')"
      ]
    },
    {
      "cell_type": "code",
      "execution_count": null,
      "metadata": {
        "colab": {
          "base_uri": "https://localhost:8080/"
        },
        "id": "J92MUgxCtG3y",
        "outputId": "39b41a3d-acd7-4517-c577-0ff259285885"
      },
      "outputs": [
        {
          "output_type": "stream",
          "name": "stdout",
          "text": [
            "Selected LDF (from Volume-Weighted Averages):\n",
            " [2.5273, 1.332, 1.1546, 1.0817, 1.0509, 1.0274, 1.0234, 1.0134, 1.0126]\n",
            "\n",
            "Cumulative Development Factor (CDF):\n",
            " [4.7672, 1.8863, 1.4161, 1.2265, 1.1339, 1.079, 1.0502, 1.0262, 1.0126, 1.0]\n"
          ]
        }
      ],
      "source": [
        "# Select LDF\n",
        "selected_Ldf = avg_ldf['VolumeAvg']\n",
        "print(\"Selected LDF (from Volume-Weighted Averages):\\n\",selected_Ldf)\n",
        "\n",
        "#Tail factor\n",
        "tail = 1.0000\n",
        "selected_Ldf.append(tail)\n",
        "\n",
        "# Cumulative Loss Development factors\n",
        "cdf = []\n",
        "f = 1\n",
        "selected_Ldf = sorted( selected_Ldf, reverse=False)\n",
        "for i in range(1, len(selected_Ldf)+1):\n",
        "    f = 1\n",
        "    for j in range(0, i):\n",
        "        f*=selected_Ldf[j]\n",
        "    cdf.append( round( f,4) )\n",
        "\n",
        "print(\"\\nCumulative Development Factor (CDF):\\n\", sorted(cdf, reverse=True))\n"
      ]
    },
    {
      "cell_type": "code",
      "execution_count": null,
      "metadata": {
        "colab": {
          "base_uri": "https://localhost:8080/"
        },
        "id": "9TMXe4PsloFz",
        "outputId": "aec57988-83d9-4519-d124-bbd33d977272"
      },
      "outputs": [
        {
          "output_type": "stream",
          "name": "stdout",
          "text": [
            "Projected Ulimate Losses\n",
            "\n",
            "1988 \t==> 125049.0\n",
            "1989 \t==> 149214.7108\n",
            "1990 \t==> 192679.312\n",
            "1991 \t==> 224108.4792\n",
            "1992 \t==> 230802.416\n",
            "1993 \t==> 219609.2164\n",
            "1994 \t==> 185300.8465\n",
            "1995 \t==> 157566.6148\n",
            "1996 \t==> 124558.0479\n",
            "1997 \t==> 120443.308\n"
          ]
        }
      ],
      "source": [
        "# Projected Ultimate Losses\n",
        "proj_ultLosses = {}\n",
        "for i in range(0, len(cdf)):\n",
        "    for j in range(0, len(loss_triangle)):\n",
        "        if(i==j):\n",
        "            proj_ultLosses[ list(loss_triangle.keys())[j] ] = round( list(loss_triangle.values())[i][-1]*cdf[i],4)\n",
        "print(\"Projected Ulimate Losses\\n\")\n",
        "for i in proj_ultLosses.keys():\n",
        "    print(i,\"\\t==>\",proj_ultLosses[i])"
      ]
    },
    {
      "cell_type": "code",
      "execution_count": null,
      "metadata": {
        "colab": {
          "base_uri": "https://localhost:8080/"
        },
        "id": "1VxLO0ItNjyd",
        "outputId": "174574c5-51fd-4b21-ccc2-4f5769f2f96c"
      },
      "outputs": [
        {
          "output_type": "stream",
          "name": "stdout",
          "text": [
            "Actual Ulimate Losses\n",
            "\n",
            "1988 \t==> 125049\n",
            "1989 \t==> 149252\n",
            "1990 \t==> 196092\n",
            "1991 \t==> 229642\n",
            "1992 \t==> 235831\n",
            "1993 \t==> 224868\n",
            "1994 \t==> 190572\n",
            "1995 \t==> 153299\n",
            "1996 \t==> 126403\n",
            "1997 \t==> 111592\n",
            "\n",
            "Mean Absolute Error = 3950.5893999999985\n",
            "\n",
            "R^2 coefficient = 0.9887770491495739\n"
          ]
        }
      ],
      "source": [
        "from sklearn.metrics import mean_absolute_error as mae, r2_score as r2\n",
        "# Actual Ultimate Losses\n",
        "act_ultLosses = {}\n",
        "for i in range(1988,1998):\n",
        "        condition = ( (loss_data['AccidentYear']==i) & (loss_data['DevelopmentLag']==10) )\n",
        "        act_ultLosses[i] = int( loss_data.loc[condition]['CumPaidLoss_D'])\n",
        "print(\"Actual Ulimate Losses\\n\")\n",
        "for i in act_ultLosses.keys():\n",
        "    print(i,\"\\t==>\",act_ultLosses[i])\n",
        "\n",
        "print( \"\\nMean Absolute Error =\",mae(list(act_ultLosses.values()), list(proj_ultLosses.values())) )\n",
        "print(\"\\nR^2 coefficient =\", r2(list(act_ultLosses.values()), list(proj_ultLosses.values()) ) )"
      ]
    },
    {
      "cell_type": "markdown",
      "metadata": {
        "id": "lwUJc0_2KR86"
      },
      "source": [
        "# Inspiration for Rate Adjustment Factors"
      ]
    },
    {
      "cell_type": "code",
      "execution_count": null,
      "metadata": {
        "colab": {
          "base_uri": "https://localhost:8080/"
        },
        "id": "4MOVSEyzWXEc",
        "outputId": "fbe3e3de-c512-4597-ddb4-ca5fae165803"
      },
      "outputs": [
        {
          "output_type": "execute_result",
          "data": {
            "text/plain": [
              "0.28125"
            ]
          },
          "metadata": {},
          "execution_count": 13
        }
      ],
      "source": [
        "import datetime\n",
        "T = 1; E = 1;\n",
        "start_date = datetime.date(2015,1,1)\n",
        "rate_date = datetime.date(2015,4,1)\n",
        "\n",
        "def months_between(date1,date2):\n",
        "\n",
        "    m1=date1.year*12+date1.month\n",
        "    m2=date2.year*12+date2.month\n",
        "    months=m1-m2\n",
        "\n",
        "    return months/12\n",
        "\n",
        "D = months_between(rate_date, start_date)\n",
        "\n",
        "A = D+T\n",
        "B = max( A-E, 0 )\n",
        "C = max( D, 0 )\n",
        "\n",
        "P = 1 - ( (pow(A,2)-pow(B,2)-pow(C,2)) / (2*E*T) )\n",
        "P\n"
      ]
    },
    {
      "cell_type": "code",
      "execution_count": null,
      "metadata": {
        "colab": {
          "base_uri": "https://localhost:8080/"
        },
        "id": "prlPLha2X6tq",
        "outputId": "2353f2b6-7ac8-49cf-8943-909370f116c5"
      },
      "outputs": [
        {
          "output_type": "stream",
          "name": "stdout",
          "text": [
            "Rate change indeces:\n",
            " [1.0, 1.05, 1.1, 0.98]\n",
            "Cumulative rate change indeces:\n",
            " [1.0, 1.05, 1.155, 1.1319]\n"
          ]
        }
      ],
      "source": [
        "rate_changes = {\n",
        "            datetime.date(2015,4,1):0.05, datetime.date(2016,1,1):0.1,\n",
        "                datetime.date(2017,7,1):-0.02,\n",
        "                }\n",
        "earned_prem = {2015: 20400, 2016: 21000, 2017: 22800, 2018: 23200}\n",
        "\n",
        "# first calculate the rate change indeces\n",
        "rates = list(rate_changes.values())\n",
        "rate_index =[1.00]+[ (1+i) for i in rates ] # including initial index without changes = 1.00 (rate change = 0%)\n",
        "print(\"Rate change indeces:\\n\",rate_index)\n",
        "cum_index = []\n",
        "f = 1\n",
        "for i in rate_index:\n",
        "    f *= i\n",
        "    cum_index.append( round(f, 4))\n",
        "print(\"Cumulative rate change indeces:\\n\",cum_index)\n",
        "current_cum_rate_index = cum_index[-1]"
      ]
    },
    {
      "cell_type": "code",
      "execution_count": null,
      "metadata": {
        "colab": {
          "base_uri": "https://localhost:8080/"
        },
        "id": "B25gBw-DNYhS",
        "outputId": "d052f915-a5e5-4ad4-a447-6961e85c97d0"
      },
      "outputs": [
        {
          "output_type": "stream",
          "name": "stdout",
          "text": [
            "The portion earned by the premium in the years w.r.t. the rate changes are:\n",
            " {2015: [0.71875, 0.28125, 0, 0], 2016: [0.03125, 0.46875, 0.5, 0], 2017: [0, 0, 0.875, 0.125], 2018: [0, 0, 0.125, 0.875]}\n"
          ]
        }
      ],
      "source": [
        "import datetime\n",
        "T = 1; E = 1;\n",
        "\n",
        "def months_between(date1,date2):\n",
        "\n",
        "    m1=date1.year*12+date1.month\n",
        "    m2=date2.year*12+date2.month\n",
        "    months=m1-m2\n",
        "\n",
        "    return months/12\n",
        "\n",
        "\n",
        "\n",
        "def find_remains(L):\n",
        "    if L!=[]:\n",
        "        L.append(0)\n",
        "        to_return = []\n",
        "        max = 1\n",
        "        for i in range(0, len(L)):\n",
        "            if L[i]!=0:\n",
        "                diff = max - L[i]\n",
        "                to_return.append(round( diff,5))\n",
        "                max = L[i]\n",
        "                if L[i+1]==0:\n",
        "                    to_return.append(round( max,5))\n",
        "            else:\n",
        "                to_return.append(0)\n",
        "\n",
        "        to_return.pop()\n",
        "        return to_return\n",
        "\n",
        "\n",
        "\n",
        "\n",
        "def earnedPortion(rate_dates, earned_prem_years):\n",
        "\n",
        "    portion = {}\n",
        "    for i in earned_prem_years:\n",
        "        portion[i] = []\n",
        "    for i in earned_prem_years:\n",
        "        start_date = datetime.date(i,1,1)\n",
        "        for j in rate_dates:\n",
        "\n",
        "            if months_between(j, start_date)<1 and months_between(j, start_date)>-1:\n",
        "\n",
        "                D = months_between(j, start_date)\n",
        "\n",
        "                A = D+T\n",
        "                B = max( A-E, 0 )\n",
        "                C = max( D, 0 )\n",
        "\n",
        "                P = 1 - ( (pow(A,2)-pow(B,2)-pow(C,2)) / (2*E*T) )\n",
        "                portion[i].append( round(P, 5))\n",
        "            else:\n",
        "                portion[i].append(0)\n",
        "\n",
        "\n",
        "    for i in portion.keys():\n",
        "        portion[i] = find_remains(portion[i])\n",
        "    return(portion)\n",
        "\n",
        "\n",
        "rate_effec_dates = list( rate_changes.keys())\n",
        "years_toAdjust = list( earned_prem.keys() )\n",
        "earned_PremPortion = earnedPortion(rate_effec_dates, years_toAdjust)\n",
        "print(\"The portion earned by the premium in the years w.r.t. the rate changes are:\\n\",earned_PremPortion)"
      ]
    },
    {
      "cell_type": "code",
      "execution_count": null,
      "metadata": {
        "colab": {
          "base_uri": "https://localhost:8080/"
        },
        "id": "NbojTNtqurEm",
        "outputId": "a0e00eb3-c172-43a7-a962-9e60a2d730ef"
      },
      "outputs": [
        {
          "output_type": "stream",
          "name": "stdout",
          "text": [
            "The average cumulative rate level indices are:\n",
            " {2015: 1.01406, 2016: 1.10094, 2017: 1.15211, 2018: 1.13479}\n"
          ]
        }
      ],
      "source": [
        "# Average Cumulative Rate Level Indices\n",
        "\n",
        "def AvgCumulIndices(L, cumul_indices):\n",
        "    prod = L*cumul_indices\n",
        "    sum = 0\n",
        "    for i in prod:\n",
        "        sum+=i\n",
        "    return round(sum, 5)\n",
        "\n",
        "for i in earned_PremPortion.keys():\n",
        "    earned_PremPortion[i] = np.array(earned_PremPortion[i])\n",
        "cum_index = np.array(cum_index)\n",
        "\n",
        "avg_CumulIndices = {}\n",
        "for i in earned_PremPortion.keys():\n",
        "    avg_CumulIndices[i] = AvgCumulIndices(earned_PremPortion[i], cum_index)\n",
        "\n",
        "print(\"The average cumulative rate level indices are:\\n\",avg_CumulIndices)\n"
      ]
    },
    {
      "cell_type": "code",
      "execution_count": null,
      "metadata": {
        "colab": {
          "base_uri": "https://localhost:8080/"
        },
        "id": "7srqeXVN1frJ",
        "outputId": "3f6c5423-123a-4826-dc69-5fce369dcb4c"
      },
      "outputs": [
        {
          "output_type": "stream",
          "name": "stdout",
          "text": [
            "On-Level Factors for premium:\n",
            " {2015: 1.11621, 2016: 1.02812, 2017: 0.98246, 2018: 0.99745}\n"
          ]
        }
      ],
      "source": [
        "# Finally, On-Level Factors\n",
        "onlevel = {}\n",
        "for i in avg_CumulIndices.keys():\n",
        "    onlevel[i] = round( current_cum_rate_index/avg_CumulIndices[i], 5 )\n",
        "print(\"On-Level Factors for premium:\\n\",onlevel)"
      ]
    },
    {
      "cell_type": "markdown",
      "metadata": {
        "id": "T3dc0ZCNzDew"
      },
      "source": [
        "# Adjusting Premiums for Rate Changes\n"
      ]
    },
    {
      "cell_type": "code",
      "execution_count": null,
      "metadata": {
        "colab": {
          "base_uri": "https://localhost:8080/"
        },
        "id": "NbelFrpJ3Hxi",
        "outputId": "71f650e7-99c7-496b-d6f1-6143e2737c69"
      },
      "outputs": [
        {
          "output_type": "stream",
          "name": "stdout",
          "text": [
            "Net Premium Earned\n",
            "\n",
            "1988 \t==> 177104\n",
            "1989 \t==> 201118\n",
            "1990 \t==> 246010\n",
            "1991 \t==> 286019\n",
            "1992 \t==> 340183\n",
            "1993 \t==> 418755\n",
            "1994 \t==> 366031\n",
            "1995 \t==> 338186\n",
            "1996 \t==> 286631\n",
            "1997 \t==> 245378\n"
          ]
        }
      ],
      "source": [
        "net_prem_earned = {}\n",
        "for i in range(1988,1998):\n",
        "    net_prem_earned[i] = list( loss_data[loss_data['AccidentYear']==i]['EarnedPremNet_D'] )[0]\n",
        "\n",
        "print(\"Net Premium Earned\\n\")\n",
        "for i in net_prem_earned.keys():\n",
        "    print(i,\"\\t==>\",net_prem_earned[i])"
      ]
    },
    {
      "cell_type": "markdown",
      "source": [
        "Assume some rate changes"
      ],
      "metadata": {
        "id": "4em8lgs1uetn"
      }
    },
    {
      "cell_type": "code",
      "execution_count": null,
      "metadata": {
        "colab": {
          "base_uri": "https://localhost:8080/"
        },
        "id": "k07ECKwaYB2G",
        "outputId": "57377676-5cdd-43eb-cd55-5fe36a945f1f"
      },
      "outputs": [
        {
          "output_type": "stream",
          "name": "stdout",
          "text": [
            "Rate change indeces:\n",
            " [1.0, 1.05, 0.98, 1.11, 0.95, 1.15]\n",
            "Cumulative rate change indeces:\n",
            " [1.0, 1.05, 1.029, 1.1422, 1.0851, 1.2478]\n",
            "Current Cumulative Rate Level Index = 1.2478\n"
          ]
        }
      ],
      "source": [
        "# Assume rate changes\n",
        "rate_changes = {\n",
        "            datetime.date(1988,4,1):0.05, #datetime.date(1989,1,1):0.1,\n",
        "                datetime.date(1990,7,1):-0.02, #datetime.date(1991,4,1):-0.04,\n",
        "            datetime.date(1991,5,1):0.11,  #datetime.date(1992,3,1):0.07,\n",
        "            datetime.date(1993,8,1):-0.05, #datetime.date(1994,2,1):0.08,\n",
        "            datetime.date(1996,8,1):0.15\n",
        "                }\n",
        "# first calculate the rate change indeces\n",
        "rates = list(rate_changes.values())\n",
        "rate_index =[1.00]+[ (1+i) for i in rates ] # including initial index without changes = 1.00 (rate change = 0%)\n",
        "print(\"Rate change indeces:\\n\",rate_index)\n",
        "cum_index = []\n",
        "f = 1\n",
        "for i in rate_index:\n",
        "    f *= i\n",
        "    cum_index.append( round(f, 4))\n",
        "print(\"Cumulative rate change indeces:\\n\",cum_index)\n",
        "current_cum_rate_index = cum_index[-1]\n",
        "print(\"Current Cumulative Rate Level Index =\",current_cum_rate_index)"
      ]
    },
    {
      "cell_type": "code",
      "execution_count": null,
      "metadata": {
        "colab": {
          "base_uri": "https://localhost:8080/"
        },
        "id": "WRz6tOviaiv4",
        "outputId": "4ae0da38-c298-45d0-a2a2-9626e228a089"
      },
      "outputs": [
        {
          "output_type": "stream",
          "name": "stdout",
          "text": [
            "The portion earned by the premium in the years w.r.t. the rate changes are:\n",
            " {1988: [0.71875, 0.28125, 0, 0, 0, 0], 1989: [0.03125, 0.96875, 0, 0, 0, 0], 1990: [0, 0.875, 0.125, 0, 0, 0], 1991: [0, 0.125, 0.65278, 0.22222, 0, 0], 1992: [0, 0, 0.05556, 0.94444, 0, 0], 1993: [0, 0, 0, 0.91319, 0.08681, 0], 1994: [0, 0, 0, 0.17014, 0.82986, 0], 1995: [0, 0, 0, 0, 1, 0], 1996: [0, 0, 0, 0, 0.91319, 0.08681], 1997: [0, 0, 0, 0, 0.17014, 0.82986]}\n"
          ]
        }
      ],
      "source": [
        "import datetime\n",
        "T = 1; E = 1;\n",
        "\n",
        "def months_between(date1,date2):\n",
        "    '''This function calculates the difference between 2 given dates in months\n",
        "    date1, date2 are in datetime.date() format'''\n",
        "    m1=date1.year*12+date1.month\n",
        "    m2=date2.year*12+date2.month\n",
        "    months=m1-m2    # difference between the dates\n",
        "\n",
        "    return months/12\n",
        "\n",
        "\n",
        "\n",
        "def find_remains(rate_dates, earned_prem_year, L):\n",
        "    '''This function calculates the remaining portions of earned premium under the rate changes\n",
        "       rate_dates is a dictionary containing the dates of rate changes, earned_prem_year is the year whose premiums are being adjusted, L is a list'''\n",
        "    if L!=[]:\n",
        "        L.append(0) # appending 0 as a means for calculating the last portion\n",
        "        to_return = []  # the list that contains the portions\n",
        "        max = 1 # maximum value (total area of an year of earned premium)\n",
        "        for i in range(0, len(L)):\n",
        "            if L[i]!=0:\n",
        "                diff = max - L[i]   # calculate remaining portion\n",
        "                to_return.append(round( diff,5))\n",
        "                max = L[i]\n",
        "                if L[i+1]==0:   # for the last portion to be appended\n",
        "                    to_return.append(round( max,5))\n",
        "            else:\n",
        "                to_return.append(0)\n",
        "\n",
        "        if to_return.count(0) == len(to_return):\n",
        "            to_return = earnedPortion_ForUnaffectedYear(rate_dates, earned_prem_year, to_return)\n",
        "\n",
        "        to_return.pop()\n",
        "        return to_return\n",
        "\n",
        "\n",
        "\n",
        "def earnedPortion_ForUnaffectedYear(rate_dates, earned_prem_year, L):\n",
        "    '''This function sets the portion earned by premium for that year as 1 if there are no rate changes affecting that year\n",
        "    rate_dates is a dictionary containing the dates of rate changes, earned_prem_year is the year whose premiums are being adjusted, L is a list'''\n",
        "    c = 0\n",
        "    start_date = datetime.date(earned_prem_year,1,1)\n",
        "    for i in rate_dates:\n",
        "        if( months_between(i, start_date)>0 ):      # checking where to insert 1\n",
        "            break\n",
        "        else:\n",
        "            c+=1\n",
        "    L.insert(c,1)   # insert 1 as portion earned by premium\n",
        "    return L\n",
        "\n",
        "\n",
        "\n",
        "def earnedPortion(rate_dates, earned_prem_years):\n",
        "    '''This function calculates the portion of earned premium under given rate changes\n",
        "    rate_dates is a dictionary containing the dates of rate changes and earned_prem_years is also a dictionary containing the years in which premium is earned'''\n",
        "    portion = {}\n",
        "    for i in earned_prem_years:\n",
        "        portion[i] = []\n",
        "    for i in earned_prem_years:\n",
        "        start_date = datetime.date(i,1,1)\n",
        "        for j in rate_dates:\n",
        "\n",
        "            if months_between(j, start_date)<1 and months_between(j, start_date)>-1:\n",
        "                # algorithm for calculating portions of earned premium\n",
        "                D = months_between(j, start_date)\n",
        "\n",
        "                A = D+T\n",
        "                B = max( A-E, 0 )\n",
        "                C = max( D, 0 )\n",
        "\n",
        "                P = 1 - ( (pow(A,2)-pow(B,2)-pow(C,2)) / (2*E*T) )\n",
        "                portion[i].append( round(P, 5))\n",
        "            else:\n",
        "                portion[i].append(0)\n",
        "\n",
        "    # print(portion)\n",
        "    for i in portion.keys():\n",
        "        portion[i] = find_remains(rate_dates, i, portion[i])\n",
        "    return(portion)\n",
        "\n",
        "\n",
        "rate_effec_dates = list( rate_changes.keys())\n",
        "years_toAdjust = list( net_prem_earned.keys() )\n",
        "earned_NetPremPortion = earnedPortion(rate_effec_dates, years_toAdjust)\n",
        "print(\"The portion earned by the premium in the years w.r.t. the rate changes are:\\n\",earned_NetPremPortion)"
      ]
    },
    {
      "cell_type": "code",
      "execution_count": null,
      "metadata": {
        "colab": {
          "base_uri": "https://localhost:8080/"
        },
        "id": "3pGBhHcude19",
        "outputId": "61ae5251-f5db-4ffc-b196-638e01733fd4"
      },
      "outputs": [
        {
          "output_type": "stream",
          "name": "stdout",
          "text": [
            "\n",
            "The Average Cumulative Rate Level Indices are:\n",
            "1988 \t==> 1.01406\n",
            "1989 \t==> 1.04844\n",
            "1990 \t==> 1.04738\n",
            "1991 \t==> 1.05678\n",
            "1992 \t==> 1.13591\n",
            "1993 \t==> 1.13724\n",
            "1994 \t==> 1.09481\n",
            "1995 \t==> 1.0851\n",
            "1996 \t==> 1.09922\n",
            "1997 \t==> 1.22012\n"
          ]
        }
      ],
      "source": [
        "# Average Cumulative Rate Level Indices\n",
        "\n",
        "def AvgCumulIndices(L, cumul_indices):\n",
        "    '''This function calculates the average cumulative rate level indices for the earned premium\n",
        "    L, cumul_indices are numpy arrays where L contains the portions of earned premiums and cumul_indices contains the cumulative rate level indices'''\n",
        "    prod = L*cumul_indices\n",
        "    sum = 0\n",
        "    for i in prod:\n",
        "        sum+=i\n",
        "    return round(sum, 5)\n",
        "\n",
        "for i in earned_NetPremPortion.keys():\n",
        "    earned_NetPremPortion[i] = np.array(earned_NetPremPortion[i])\n",
        "cum_index = np.array(cum_index)\n",
        "\n",
        "avg_CumulIndices = {}\n",
        "for i in earned_NetPremPortion.keys():\n",
        "    avg_CumulIndices[i] = AvgCumulIndices(earned_NetPremPortion[i], cum_index)\n",
        "\n",
        "print(\"\\nThe Average Cumulative Rate Level Indices are:\")\n",
        "for i in avg_CumulIndices.keys():\n",
        "    print(i,\"\\t==>\",avg_CumulIndices[i])"
      ]
    },
    {
      "cell_type": "markdown",
      "metadata": {
        "id": "10dPzg2EgiVL"
      },
      "source": [
        "![image.png](data:image/png;base64,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)"
      ]
    },
    {
      "cell_type": "code",
      "execution_count": null,
      "metadata": {
        "colab": {
          "base_uri": "https://localhost:8080/"
        },
        "id": "OmTtKMjJeZOd",
        "outputId": "d9f2e8f6-c118-4816-dd71-9fb40cb0d358"
      },
      "outputs": [
        {
          "output_type": "stream",
          "name": "stdout",
          "text": [
            "Current Cumulative Rate Level Index = 1.2478\n",
            "\n",
            "The On-Level Factors are:\n",
            "1988 \t==> 1.2305\n",
            "1989 \t==> 1.19015\n",
            "1990 \t==> 1.19135\n",
            "1991 \t==> 1.18076\n",
            "1992 \t==> 1.0985\n",
            "1993 \t==> 1.09722\n",
            "1994 \t==> 1.13974\n",
            "1995 \t==> 1.14994\n",
            "1996 \t==> 1.13517\n",
            "1997 \t==> 1.02269\n"
          ]
        }
      ],
      "source": [
        "# Finally, On-Level Factors\n",
        "onlevel = {}\n",
        "print(\"Current Cumulative Rate Level Index =\",current_cum_rate_index)\n",
        "for i in avg_CumulIndices.keys():\n",
        "    onlevel[i] = round( current_cum_rate_index/avg_CumulIndices[i], 5 )\n",
        "print(\"\\nThe On-Level Factors are:\")\n",
        "for i in onlevel.keys():\n",
        "    print(i,\"\\t==>\",onlevel[i])"
      ]
    },
    {
      "cell_type": "code",
      "execution_count": null,
      "metadata": {
        "colab": {
          "base_uri": "https://localhost:8080/"
        },
        "id": "9fI7o4Hme2nJ",
        "outputId": "6df849f7-cae4-4701-a999-a66eb1f933d9"
      },
      "outputs": [
        {
          "output_type": "stream",
          "name": "stdout",
          "text": [
            "The On-Level Premiums are:\n",
            "\n",
            "1988 \t==> 217926.472\n",
            "1989 \t==> 239360.5877\n",
            "1990 \t==> 293084.0135\n",
            "1991 \t==> 337719.79444\n",
            "1992 \t==> 373691.0255\n",
            "1993 \t==> 459466.3611\n",
            "1994 \t==> 417180.17194\n",
            "1995 \t==> 388893.60884\n",
            "1996 \t==> 325374.91227\n",
            "1997 \t==> 250945.62682\n"
          ]
        }
      ],
      "source": [
        "# On-Leveling the Premiums\n",
        "onLevelPrem = {}\n",
        "for i in onlevel.keys():\n",
        "    onLevelPrem[i] = round( net_prem_earned[i] * onlevel[i], 5)\n",
        "print(\"The On-Level Premiums are:\\n\")\n",
        "for i in onLevelPrem.keys():\n",
        "    print(i,\"\\t==>\",onLevelPrem[i])"
      ]
    },
    {
      "cell_type": "markdown",
      "metadata": {
        "id": "zO1G3NKvgXSL"
      },
      "source": [
        "# Adjusting Losses for Benefit Changes"
      ]
    },
    {
      "cell_type": "code",
      "execution_count": null,
      "metadata": {
        "colab": {
          "base_uri": "https://localhost:8080/"
        },
        "outputId": "c0fbf2ca-2adf-419e-d123-4fda5b81519c",
        "id": "p5ew5MViow45"
      },
      "outputs": [
        {
          "output_type": "stream",
          "name": "stdout",
          "text": [
            "Benefit change indeces:\n",
            " [1.0, 1.05, 0.98, 1.11, 0.95, 1.15]\n",
            "Loss Level indeces:\n",
            " [1.0, 1.05, 1.029, 1.1422, 1.0851, 1.2478]\n",
            "Current Loss Level = 1.2478\n"
          ]
        }
      ],
      "source": [
        "# Assume benefit changes\n",
        "benefit_changes = {\n",
        "            datetime.date(1988,4,1):0.05,\n",
        "            #     datetime.date(1989,1,1):0.1,\n",
        "            datetime.date(1990,7,1):-0.02,\n",
        "            #     datetime.date(1991,4,1):-0.04,\n",
        "            datetime.date(1991,5,1):0.11,\n",
        "            #     datetime.date(1992,3,1):0.07,\n",
        "            datetime.date(1993,8,1):-0.05,\n",
        "            #     datetime.date(1994,2,1):0.08,\n",
        "            datetime.date(1996,8,1):0.15\n",
        "                }\n",
        "# first calculate the benefit change indeces\n",
        "benefits = list(benefit_changes.values())\n",
        "benefit_index =[1.00]+[ (1+i) for i in benefits ] # including initial index without changes = 1.00 (rate change = 0%)\n",
        "print(\"Benefit change indeces:\\n\",benefit_index)\n",
        "loss_lvl = []\n",
        "f = 1\n",
        "for i in benefit_index:\n",
        "    f *= i\n",
        "    loss_lvl.append( round(f, 4))\n",
        "print(\"Loss Level indeces:\\n\",loss_lvl)\n",
        "current_loss_lvl = loss_lvl[-1]\n",
        "print(\"Current Loss Level =\",current_loss_lvl)"
      ]
    },
    {
      "cell_type": "code",
      "execution_count": null,
      "metadata": {
        "colab": {
          "base_uri": "https://localhost:8080/"
        },
        "outputId": "18c1225a-d769-498a-f29d-0612449533cd",
        "id": "hT24dN5Ko30a"
      },
      "outputs": [
        {
          "output_type": "stream",
          "name": "stdout",
          "text": [
            "The portion of the losses in the years w.r.t. the benefit changes are:\n",
            " {1988: [0.71875, 0.28125, 0, 0, 0, 0], 1989: [0.03125, 0.96875, 0, 0, 0, 0], 1990: [0, 0.875, 0.125, 0, 0, 0], 1991: [0, 0.125, 0.65278, 0.22222, 0, 0], 1992: [0, 0, 0.05556, 0.94444, 0, 0], 1993: [0, 0, 0, 0.91319, 0.08681, 0], 1994: [0, 0, 0, 0.17014, 0.82986, 0], 1995: [0, 0, 0, 0, 1, 0], 1996: [0, 0, 0, 0, 0.91319, 0.08681], 1997: [0, 0, 0, 0, 0.17014, 0.82986]}\n"
          ]
        }
      ],
      "source": [
        "import datetime\n",
        "T = 1; E = 1;\n",
        "\n",
        "def months_between(date1,date2):\n",
        "    '''This function calculates the difference between 2 given dates in months\n",
        "    date1, date2 are in datetime.date() format'''\n",
        "    m1=date1.year*12+date1.month\n",
        "    m2=date2.year*12+date2.month\n",
        "    months=m1-m2    # difference between the dates\n",
        "\n",
        "    return months/12\n",
        "\n",
        "\n",
        "\n",
        "def find_remains(ben_dates, loss_year, L):\n",
        "    '''This function calculates the remaining portions of earned premium under the rate changes\n",
        "       ben_dates is a list containing the dates of benefit changes, loss_year is the year whose losses are being adjusted, L is a list'''\n",
        "    if L!=[]:\n",
        "        L.append(0) # appending 0 as a means for calculating the last portion\n",
        "        to_return = []  # the list that contains the portions\n",
        "        max = 1 # maximum value (total area of an year of losses)\n",
        "        for i in range(0, len(L)):\n",
        "            if L[i]!=0:\n",
        "                diff = max - L[i]   # calculate remaining portion\n",
        "                to_return.append(round( diff,5))\n",
        "                max = L[i]\n",
        "                if L[i+1]==0:   # for the last portion to be appended\n",
        "                    to_return.append(round( max,5))\n",
        "            else:\n",
        "                to_return.append(0)\n",
        "\n",
        "        if to_return.count(0) == len(to_return):\n",
        "            to_return = Portion_ForUnaffectedYear(ben_dates, loss_year, to_return)\n",
        "\n",
        "        to_return.pop()\n",
        "        return to_return\n",
        "\n",
        "\n",
        "\n",
        "def Portion_ForUnaffectedYear(ben_dates, loss_year, L):\n",
        "    '''This function sets the portion earned by premium for that year as 1 if there are no rate changes affecting that year\n",
        "    ben_dates is a list containing the dates of benefit changes, loss_year is the year whose losses are being adjusted, L is a list'''\n",
        "    c = 0\n",
        "    start_date = datetime.date(loss_year,1,1)\n",
        "    for i in ben_dates:\n",
        "        if( months_between(i, start_date)>0 ):      # checking where to insert 1\n",
        "            break\n",
        "        else:\n",
        "            c+=1\n",
        "    L.insert(c,1)   # insert 1 as portion earned by premium\n",
        "    return L\n",
        "\n",
        "\n",
        "\n",
        "def LossPortion(ben_dates, loss_years):\n",
        "    '''This function calculates the portion of earned premium under given rate changes\n",
        "    ben_dates is a list containing the dates of benefit changes and loss_years is also a list containing the years in which losses occur'''\n",
        "    portion = {}\n",
        "    for i in loss_years:\n",
        "        portion[i] = []\n",
        "    for i in loss_years:\n",
        "        start_date = datetime.date(i,1,1)\n",
        "        for j in ben_dates:\n",
        "\n",
        "            if months_between(j, start_date)<1 and months_between(j, start_date)>-1:\n",
        "                # algorithm for calculating portions of earned premium\n",
        "                D = months_between(j, start_date)\n",
        "\n",
        "                A = D+T\n",
        "                B = max( A-E, 0 )\n",
        "                C = max( D, 0 )\n",
        "\n",
        "                P = 1 - ( (pow(A,2)-pow(B,2)-pow(C,2)) / (2*E*T) )\n",
        "                portion[i].append( round(P, 5))\n",
        "            else:\n",
        "                portion[i].append(0)\n",
        "\n",
        "    # print(portion)\n",
        "    for i in portion.keys():\n",
        "        portion[i] = find_remains(ben_dates, i, portion[i])\n",
        "    return(portion)\n",
        "\n",
        "\n",
        "ben_effec_dates = list( benefit_changes.keys())\n",
        "years_toAdjust = list( proj_ultLosses.keys() )\n",
        "LossesPortion = LossPortion(ben_effec_dates, years_toAdjust)\n",
        "print(\"The portion of the losses in the years w.r.t. the benefit changes are:\\n\",LossesPortion)"
      ]
    },
    {
      "cell_type": "code",
      "execution_count": null,
      "metadata": {
        "colab": {
          "base_uri": "https://localhost:8080/"
        },
        "outputId": "213087ca-2f7e-400c-849d-a5acb44447e3",
        "id": "_8seDSTNo-Bt"
      },
      "outputs": [
        {
          "output_type": "stream",
          "name": "stdout",
          "text": [
            "\n",
            "The Average Loss Levels are:\n",
            "1988 \t==> 1.01406\n",
            "1989 \t==> 1.04844\n",
            "1990 \t==> 1.04738\n",
            "1991 \t==> 1.05678\n",
            "1992 \t==> 1.13591\n",
            "1993 \t==> 1.13724\n",
            "1994 \t==> 1.09481\n",
            "1995 \t==> 1.0851\n",
            "1996 \t==> 1.09922\n",
            "1997 \t==> 1.22012\n"
          ]
        }
      ],
      "source": [
        "# Average Loss Levels\n",
        "\n",
        "def AvgLossLevel(L, loss_levels):\n",
        "    '''This function calculates the average Loss levels for the historical periods\n",
        "    L, loss_levels are numpy arrays where L contains the portions of losses and loss_levels contains the loss levels'''\n",
        "    prod = L*loss_levels\n",
        "    sum = 0\n",
        "    for i in prod:\n",
        "        sum+=i\n",
        "    return round(sum, 5)\n",
        "\n",
        "for i in LossesPortion.keys():\n",
        "    LossesPortion[i] = np.array(LossesPortion[i])\n",
        "loss_lvl = np.array(loss_lvl)\n",
        "\n",
        "avg_LossLvl = {}\n",
        "for i in LossesPortion.keys():\n",
        "    avg_LossLvl[i] = AvgLossLevel(LossesPortion[i], loss_lvl)\n",
        "\n",
        "print(\"\\nThe Average Loss Levels are:\")\n",
        "for i in avg_LossLvl.keys():\n",
        "    print(i,\"\\t==>\",avg_LossLvl[i])"
      ]
    },
    {
      "cell_type": "code",
      "execution_count": null,
      "metadata": {
        "colab": {
          "base_uri": "https://localhost:8080/"
        },
        "outputId": "0563ae02-e736-4b2c-edcb-593749af4314",
        "id": "PVBuT6TvpDer"
      },
      "outputs": [
        {
          "output_type": "stream",
          "name": "stdout",
          "text": [
            "Current Loss Level = 1.2478\n",
            "\n",
            "The Adjustment Factors are:\n",
            "1988 \t==> 1.2305\n",
            "1989 \t==> 1.19015\n",
            "1990 \t==> 1.19135\n",
            "1991 \t==> 1.18076\n",
            "1992 \t==> 1.0985\n",
            "1993 \t==> 1.09722\n",
            "1994 \t==> 1.13974\n",
            "1995 \t==> 1.14994\n",
            "1996 \t==> 1.13517\n",
            "1997 \t==> 1.02269\n"
          ]
        }
      ],
      "source": [
        "# Finally, Adjustment Factors\n",
        "adjusts = {}\n",
        "print(\"Current Loss Level =\",current_loss_lvl)\n",
        "for i in avg_LossLvl.keys():\n",
        "    adjusts[i] = round( current_loss_lvl/avg_LossLvl[i], 5 )\n",
        "print(\"\\nThe Adjustment Factors are:\")\n",
        "for i in adjusts.keys():\n",
        "    print(i,\"\\t==>\",adjusts[i])"
      ]
    },
    {
      "cell_type": "code",
      "source": [
        "# Adjusting the Losses\n",
        "AdjustedLosses = {}\n",
        "for i in adjusts.keys():\n",
        "    AdjustedLosses[i] = round( proj_ultLosses[i] * adjusts[i], 5)\n",
        "print(\"The Adjusted Losses are:\\n\")\n",
        "for i in AdjustedLosses.keys():\n",
        "    print(i,\"\\t==>\",AdjustedLosses[i])"
      ],
      "metadata": {
        "colab": {
          "base_uri": "https://localhost:8080/"
        },
        "id": "9NRFewE1dIj8",
        "outputId": "334bc575-8ff5-4053-8f2f-83223b5e289e"
      },
      "execution_count": null,
      "outputs": [
        {
          "output_type": "stream",
          "name": "stdout",
          "text": [
            "The Adjusted Losses are:\n",
            "\n",
            "1988 \t==> 153872.7945\n",
            "1989 \t==> 177587.88806\n",
            "1990 \t==> 229548.49835\n",
            "1991 \t==> 264618.3279\n",
            "1992 \t==> 253536.45398\n",
            "1993 \t==> 240959.62442\n",
            "1994 \t==> 211194.78679\n",
            "1995 \t==> 181192.15302\n",
            "1996 \t==> 141394.55923\n",
            "1997 \t==> 123176.16666\n"
          ]
        }
      ]
    },
    {
      "cell_type": "markdown",
      "metadata": {
        "id": "trrLRL1EgjKF"
      },
      "source": [
        "# Trending Loss Ratios"
      ]
    },
    {
      "cell_type": "code",
      "source": [
        "np_loss = []\n",
        "for i in AdjustedLosses.values():\n",
        "    np_loss.append(i)\n",
        "np_prem = []\n",
        "for i in onLevelPrem.values():\n",
        "    np_prem.append(i)\n",
        "\n",
        "np_loss = np.array(np_loss)\n",
        "np_prem = np.array(np_prem)\n",
        "\n",
        "np_LossRatio = np_loss/np_prem\n",
        "\n",
        "print(\"The Loss ratios are\",np_LossRatio)"
      ],
      "metadata": {
        "colab": {
          "base_uri": "https://localhost:8080/"
        },
        "id": "IXXw_z16ZTPs",
        "outputId": "58f9fdc7-cbbc-4608-91cb-f34268c4c64d"
      },
      "execution_count": null,
      "outputs": [
        {
          "output_type": "stream",
          "name": "stdout",
          "text": [
            "The Loss ratios are [0.70607666 0.74192619 0.7832174  0.78354403 0.67846546 0.52443366\n",
            " 0.50624359 0.46591702 0.43455889 0.49084803]\n"
          ]
        }
      ]
    },
    {
      "cell_type": "markdown",
      "metadata": {
        "id": "xeiJf_jigmTf"
      },
      "source": [
        "# Expenses and Profits"
      ]
    },
    {
      "cell_type": "markdown",
      "metadata": {
        "id": "aYJT37bEg3AS"
      },
      "source": [
        "# Overall Rate indication"
      ]
    },
    {
      "cell_type": "markdown",
      "metadata": {
        "id": "hGnJa3LDg-EX"
      },
      "source": [
        "# Predictive Analytics"
      ]
    },
    {
      "cell_type": "code",
      "execution_count": null,
      "metadata": {
        "id": "LouClATGhC_h"
      },
      "outputs": [],
      "source": []
    }
  ],
  "metadata": {
    "colab": {
      "provenance": [],
      "authorship_tag": "ABX9TyNycB/2wah8GO4D+VQ+uWfd",
      "include_colab_link": true
    },
    "kernelspec": {
      "display_name": "Python 3",
      "name": "python3"
    },
    "language_info": {
      "name": "python"
    }
  },
  "nbformat": 4,
  "nbformat_minor": 0
}